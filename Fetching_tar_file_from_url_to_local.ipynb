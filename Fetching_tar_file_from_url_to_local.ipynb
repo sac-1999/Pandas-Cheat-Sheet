{
  "nbformat": 4,
  "nbformat_minor": 0,
  "metadata": {
    "colab": {
      "name": "Fetching tar file from url to local.ipynb",
      "provenance": [],
      "collapsed_sections": [],
      "mount_file_id": "10OI1NF6u_h2jJTvNCl_xMwxuTrWh4ARO",
      "authorship_tag": "ABX9TyOv70mu7D0fTcQEPBNHfKuG",
      "include_colab_link": true
    },
    "kernelspec": {
      "name": "python3",
      "display_name": "Python 3"
    },
    "language_info": {
      "name": "python"
    }
  },
  "cells": [
    {
      "cell_type": "markdown",
      "metadata": {
        "id": "view-in-github",
        "colab_type": "text"
      },
      "source": [
        "<a href=\"https://colab.research.google.com/github/sac-1999/Pandas-Cheat-Sheet/blob/main/Fetching_tar_file_from_url_to_local.ipynb\" target=\"_parent\"><img src=\"https://colab.research.google.com/assets/colab-badge.svg\" alt=\"Open In Colab\"/></a>"
      ]
    },
    {
      "cell_type": "code",
      "metadata": {
        "id": "hGTTkQmIc79O"
      },
      "source": [
        "import os\n",
        "import tarfile\n",
        "import urllib"
      ],
      "execution_count": 23,
      "outputs": []
    },
    {
      "cell_type": "code",
      "metadata": {
        "id": "kxFiCwTk0liZ"
      },
      "source": [
        "house_url = 'https://raw.githubusercontent.com/ageron/handson-ml2/master/datasets/housing/housing.tgz'\n",
        "HOUSING_PATH = os.path.join('datasets', 'housing')"
      ],
      "execution_count": 24,
      "outputs": []
    },
    {
      "cell_type": "code",
      "metadata": {
        "id": "jNuEYJtD0lky"
      },
      "source": [
        "def fetch_housing_data(url = house_url, housing_path = HOUSING_PATH):\n",
        "  os.makedirs(housing_path , exist_ok = True)\n",
        "  tgz_path = os.path.join(housing_path , 'housing.tgz')\n",
        "  urllib.request.urlretrieve(house_url, tgz_path)\n",
        "  housing_file = tarfile.open(tgz_path)\n",
        "  housing_file.extractall(housing_path)\n",
        "  housing_file.close()"
      ],
      "execution_count": 25,
      "outputs": []
    },
    {
      "cell_type": "code",
      "metadata": {
        "id": "OEXJRCS40lqP"
      },
      "source": [
        "fetch_housing_data()"
      ],
      "execution_count": 26,
      "outputs": []
    },
    {
      "cell_type": "code",
      "metadata": {
        "id": "r5h4nq4H0lr-"
      },
      "source": [
        "import pandas as pd"
      ],
      "execution_count": 22,
      "outputs": []
    },
    {
      "cell_type": "code",
      "metadata": {
        "id": "vtZ5ht-q7A8p"
      },
      "source": [
        "def load_housing_csv(housing_path = HOUSING_PATH):\n",
        "  csv_path = os.path.join(housing_path, 'housing.csv')\n",
        "  return pd.read_csv(csv_path)"
      ],
      "execution_count": 27,
      "outputs": []
    }
  ]
}