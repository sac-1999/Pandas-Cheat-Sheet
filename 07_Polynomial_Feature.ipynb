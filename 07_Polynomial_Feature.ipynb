{
  "nbformat": 4,
  "nbformat_minor": 0,
  "metadata": {
    "colab": {
      "name": "07_Polynomial_Feature.ipynb",
      "provenance": [],
      "authorship_tag": "ABX9TyNLB+H6fPcwdOnCcBXxyq6X",
      "include_colab_link": true
    },
    "kernelspec": {
      "name": "python3",
      "display_name": "Python 3"
    },
    "language_info": {
      "name": "python"
    }
  },
  "cells": [
    {
      "cell_type": "markdown",
      "metadata": {
        "id": "view-in-github",
        "colab_type": "text"
      },
      "source": [
        "<a href=\"https://colab.research.google.com/github/sac-1999/Pandas-Cheat-Sheet/blob/main/07_Polynomial_Feature.ipynb\" target=\"_parent\"><img src=\"https://colab.research.google.com/assets/colab-badge.svg\" alt=\"Open In Colab\"/></a>"
      ]
    },
    {
      "cell_type": "code",
      "metadata": {
        "id": "aA4cvrtglfhX"
      },
      "source": [
        "from sklearn.preprocessing import PolynomialFeatures\n",
        "import numpy as np"
      ],
      "execution_count": 1,
      "outputs": []
    },
    {
      "cell_type": "code",
      "metadata": {
        "id": "Fo1yjNMam5wj"
      },
      "source": [
        "a = np.random.randint(1,10, size = (3,2))"
      ],
      "execution_count": 3,
      "outputs": []
    },
    {
      "cell_type": "code",
      "metadata": {
        "id": "bhCoWlgKnbgw"
      },
      "source": [
        "pnm = PolynomialFeatures(degree = 5, include_bias = False)"
      ],
      "execution_count": 8,
      "outputs": []
    },
    {
      "cell_type": "code",
      "metadata": {
        "id": "IxBXUkruntKn"
      },
      "source": [
        "x_poly = pnm.fit_transform(a)"
      ],
      "execution_count": 9,
      "outputs": []
    },
    {
      "cell_type": "code",
      "metadata": {
        "colab": {
          "base_uri": "https://localhost:8080/"
        },
        "id": "s9dEiKp6nzwB",
        "outputId": "3fc37ee0-c9a2-4245-fb20-21338a894d92"
      },
      "source": [
        "x_poly"
      ],
      "execution_count": 10,
      "outputs": [
        {
          "output_type": "execute_result",
          "data": {
            "text/plain": [
              "array([[9.0000e+00, 4.0000e+00, 8.1000e+01, 3.6000e+01, 1.6000e+01,\n",
              "        7.2900e+02, 3.2400e+02, 1.4400e+02, 6.4000e+01, 6.5610e+03,\n",
              "        2.9160e+03, 1.2960e+03, 5.7600e+02, 2.5600e+02, 5.9049e+04,\n",
              "        2.6244e+04, 1.1664e+04, 5.1840e+03, 2.3040e+03, 1.0240e+03],\n",
              "       [8.0000e+00, 7.0000e+00, 6.4000e+01, 5.6000e+01, 4.9000e+01,\n",
              "        5.1200e+02, 4.4800e+02, 3.9200e+02, 3.4300e+02, 4.0960e+03,\n",
              "        3.5840e+03, 3.1360e+03, 2.7440e+03, 2.4010e+03, 3.2768e+04,\n",
              "        2.8672e+04, 2.5088e+04, 2.1952e+04, 1.9208e+04, 1.6807e+04],\n",
              "       [4.0000e+00, 4.0000e+00, 1.6000e+01, 1.6000e+01, 1.6000e+01,\n",
              "        6.4000e+01, 6.4000e+01, 6.4000e+01, 6.4000e+01, 2.5600e+02,\n",
              "        2.5600e+02, 2.5600e+02, 2.5600e+02, 2.5600e+02, 1.0240e+03,\n",
              "        1.0240e+03, 1.0240e+03, 1.0240e+03, 1.0240e+03, 1.0240e+03]])"
            ]
          },
          "metadata": {},
          "execution_count": 10
        }
      ]
    },
    {
      "cell_type": "code",
      "metadata": {
        "colab": {
          "base_uri": "https://localhost:8080/"
        },
        "id": "XoQ9tJ6Rn1Q8",
        "outputId": "f75577c1-d3a2-4f0c-d7d1-dd6a23deec44"
      },
      "source": [
        "x_poly.shape"
      ],
      "execution_count": 11,
      "outputs": [
        {
          "output_type": "execute_result",
          "data": {
            "text/plain": [
              "(3, 20)"
            ]
          },
          "metadata": {},
          "execution_count": 11
        }
      ]
    },
    {
      "cell_type": "code",
      "metadata": {
        "id": "QHkz7DXVn27b"
      },
      "source": [
        ""
      ],
      "execution_count": null,
      "outputs": []
    }
  ]
}