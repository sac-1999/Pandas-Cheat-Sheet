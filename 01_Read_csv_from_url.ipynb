{
  "nbformat": 4,
  "nbformat_minor": 0,
  "metadata": {
    "colab": {
      "name": "01_Read_csv from url.ipynb",
      "provenance": [],
      "authorship_tag": "ABX9TyPhXH5loQ3ynBJhNfbyffMb",
      "include_colab_link": true
    },
    "kernelspec": {
      "name": "python3",
      "display_name": "Python 3"
    },
    "language_info": {
      "name": "python"
    }
  },
  "cells": [
    {
      "cell_type": "markdown",
      "metadata": {
        "id": "view-in-github",
        "colab_type": "text"
      },
      "source": [
        "<a href=\"https://colab.research.google.com/github/sac-1999/Pandas-Cheat-Sheet/blob/main/01_Read_csv_from_url.ipynb\" target=\"_parent\"><img src=\"https://colab.research.google.com/assets/colab-badge.svg\" alt=\"Open In Colab\"/></a>"
      ]
    },
    {
      "cell_type": "code",
      "metadata": {
        "id": "lJ3JiWuocP_Z"
      },
      "source": [
        "\n",
        "import pandas as pd\n",
        "import requests\n",
        "import io\n",
        "    \n",
        "# Downloading the csv file from your GitHub account\n",
        "\n",
        "url = \"https://raw.githubusercontent.com/shanealynn/Pandas-Merge-Tutorial/master/user_usage.csv\" \n",
        "download = requests.get(url).content\n",
        "\n",
        "file = io.StringIO(download.decode('utf-8'))\n",
        "\n",
        "df = pd.read_csv(file)\n",
        "\n"
      ],
      "execution_count": 29,
      "outputs": []
    },
    {
      "cell_type": "code",
      "metadata": {
        "colab": {
          "base_uri": "https://localhost:8080/",
          "height": 204
        },
        "id": "wjhbfMRrcqxx",
        "outputId": "ac375d5e-3785-4499-d9a4-465dcff841b2"
      },
      "source": [
        "df.head()"
      ],
      "execution_count": 30,
      "outputs": [
        {
          "output_type": "execute_result",
          "data": {
            "text/html": [
              "<div>\n",
              "<style scoped>\n",
              "    .dataframe tbody tr th:only-of-type {\n",
              "        vertical-align: middle;\n",
              "    }\n",
              "\n",
              "    .dataframe tbody tr th {\n",
              "        vertical-align: top;\n",
              "    }\n",
              "\n",
              "    .dataframe thead th {\n",
              "        text-align: right;\n",
              "    }\n",
              "</style>\n",
              "<table border=\"1\" class=\"dataframe\">\n",
              "  <thead>\n",
              "    <tr style=\"text-align: right;\">\n",
              "      <th></th>\n",
              "      <th>outgoing_mins_per_month</th>\n",
              "      <th>outgoing_sms_per_month</th>\n",
              "      <th>monthly_mb</th>\n",
              "      <th>use_id</th>\n",
              "    </tr>\n",
              "  </thead>\n",
              "  <tbody>\n",
              "    <tr>\n",
              "      <th>0</th>\n",
              "      <td>21.97</td>\n",
              "      <td>4.82</td>\n",
              "      <td>1557.33</td>\n",
              "      <td>22787</td>\n",
              "    </tr>\n",
              "    <tr>\n",
              "      <th>1</th>\n",
              "      <td>1710.08</td>\n",
              "      <td>136.88</td>\n",
              "      <td>7267.55</td>\n",
              "      <td>22788</td>\n",
              "    </tr>\n",
              "    <tr>\n",
              "      <th>2</th>\n",
              "      <td>1710.08</td>\n",
              "      <td>136.88</td>\n",
              "      <td>7267.55</td>\n",
              "      <td>22789</td>\n",
              "    </tr>\n",
              "    <tr>\n",
              "      <th>3</th>\n",
              "      <td>94.46</td>\n",
              "      <td>35.17</td>\n",
              "      <td>519.12</td>\n",
              "      <td>22790</td>\n",
              "    </tr>\n",
              "    <tr>\n",
              "      <th>4</th>\n",
              "      <td>71.59</td>\n",
              "      <td>79.26</td>\n",
              "      <td>1557.33</td>\n",
              "      <td>22792</td>\n",
              "    </tr>\n",
              "  </tbody>\n",
              "</table>\n",
              "</div>"
            ],
            "text/plain": [
              "   outgoing_mins_per_month  outgoing_sms_per_month  monthly_mb  use_id\n",
              "0                    21.97                    4.82     1557.33   22787\n",
              "1                  1710.08                  136.88     7267.55   22788\n",
              "2                  1710.08                  136.88     7267.55   22789\n",
              "3                    94.46                   35.17      519.12   22790\n",
              "4                    71.59                   79.26     1557.33   22792"
            ]
          },
          "metadata": {},
          "execution_count": 30
        }
      ]
    },
    {
      "cell_type": "code",
      "metadata": {
        "colab": {
          "base_uri": "https://localhost:8080/",
          "height": 204
        },
        "id": "mv9l_JDJczfJ",
        "outputId": "074b419c-d833-4d35-8dd0-d88902b9f6d6"
      },
      "source": [
        "df.head()"
      ],
      "execution_count": 6,
      "outputs": [
        {
          "output_type": "execute_result",
          "data": {
            "text/html": [
              "<div>\n",
              "<style scoped>\n",
              "    .dataframe tbody tr th:only-of-type {\n",
              "        vertical-align: middle;\n",
              "    }\n",
              "\n",
              "    .dataframe tbody tr th {\n",
              "        vertical-align: top;\n",
              "    }\n",
              "\n",
              "    .dataframe thead th {\n",
              "        text-align: right;\n",
              "    }\n",
              "</style>\n",
              "<table border=\"1\" class=\"dataframe\">\n",
              "  <thead>\n",
              "    <tr style=\"text-align: right;\">\n",
              "      <th></th>\n",
              "      <th>outgoing_mins_per_month</th>\n",
              "      <th>outgoing_sms_per_month</th>\n",
              "      <th>monthly_mb</th>\n",
              "      <th>use_id</th>\n",
              "    </tr>\n",
              "  </thead>\n",
              "  <tbody>\n",
              "    <tr>\n",
              "      <th>0</th>\n",
              "      <td>21.97</td>\n",
              "      <td>4.82</td>\n",
              "      <td>1557.33</td>\n",
              "      <td>22787</td>\n",
              "    </tr>\n",
              "    <tr>\n",
              "      <th>1</th>\n",
              "      <td>1710.08</td>\n",
              "      <td>136.88</td>\n",
              "      <td>7267.55</td>\n",
              "      <td>22788</td>\n",
              "    </tr>\n",
              "    <tr>\n",
              "      <th>2</th>\n",
              "      <td>1710.08</td>\n",
              "      <td>136.88</td>\n",
              "      <td>7267.55</td>\n",
              "      <td>22789</td>\n",
              "    </tr>\n",
              "    <tr>\n",
              "      <th>3</th>\n",
              "      <td>94.46</td>\n",
              "      <td>35.17</td>\n",
              "      <td>519.12</td>\n",
              "      <td>22790</td>\n",
              "    </tr>\n",
              "    <tr>\n",
              "      <th>4</th>\n",
              "      <td>71.59</td>\n",
              "      <td>79.26</td>\n",
              "      <td>1557.33</td>\n",
              "      <td>22792</td>\n",
              "    </tr>\n",
              "  </tbody>\n",
              "</table>\n",
              "</div>"
            ],
            "text/plain": [
              "   outgoing_mins_per_month  outgoing_sms_per_month  monthly_mb  use_id\n",
              "0                    21.97                    4.82     1557.33   22787\n",
              "1                  1710.08                  136.88     7267.55   22788\n",
              "2                  1710.08                  136.88     7267.55   22789\n",
              "3                    94.46                   35.17      519.12   22790\n",
              "4                    71.59                   79.26     1557.33   22792"
            ]
          },
          "metadata": {},
          "execution_count": 6
        }
      ]
    },
    {
      "cell_type": "code",
      "metadata": {
        "id": "AzO_sjqnc9-G"
      },
      "source": [
        ""
      ],
      "execution_count": null,
      "outputs": []
    }
  ]
}